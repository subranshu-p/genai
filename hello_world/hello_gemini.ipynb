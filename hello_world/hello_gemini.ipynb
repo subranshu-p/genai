{
  "nbformat": 4,
  "nbformat_minor": 0,
  "metadata": {
    "colab": {
      "provenance": [],
      "authorship_tag": "ABX9TyMdhznG6j1V4lGqOQN1NSCr",
      "include_colab_link": true
    },
    "kernelspec": {
      "name": "python3",
      "display_name": "Python 3"
    },
    "language_info": {
      "name": "python"
    }
  },
  "cells": [
    {
      "cell_type": "markdown",
      "metadata": {
        "id": "view-in-github",
        "colab_type": "text"
      },
      "source": [
        "<a href=\"https://colab.research.google.com/github/subranshu-p/genai/blob/main/hello_world/hello_gemini.ipynb\" target=\"_parent\"><img src=\"https://colab.research.google.com/assets/colab-badge.svg\" alt=\"Open In Colab\"/></a>"
      ]
    },
    {
      "cell_type": "code",
      "source": [
        "!pip -q install -U google-generativeai\n",
        "\n",
        "import os, getpass, google.generativeai as genai\n",
        "\n",
        "# Prompt so your key is NOT stored in the notebook\n",
        "os.environ[\"GOOGLE_API_KEY\"] = getpass.getpass(\"Enter your GOOGLE_API_KEY: \")\n",
        "\n",
        "# Configure + run\n",
        "genai.configure(api_key=os.environ[\"GOOGLE_API_KEY\"])\n",
        "model = genai.GenerativeModel(\"gemini-2.5-flash\")\n",
        "resp = model.generate_content(\"Say 'Hello, World!' in one short line and a short motivational quote.\")\n",
        "print(resp.text)"
      ],
      "metadata": {
        "colab": {
          "base_uri": "https://localhost:8080/",
          "height": 69
        },
        "id": "qk6jpKrZ_ZkC",
        "outputId": "f0e4dea8-34cf-4883-a913-1a0efc64680e"
      },
      "execution_count": 1,
      "outputs": [
        {
          "output_type": "stream",
          "name": "stdout",
          "text": [
            "Enter your GOOGLE_API_KEY: ··········\n",
            "Hello, World!\n",
            "Believe in yourself, and all things are possible.\n"
          ]
        }
      ]
    }
  ]
}